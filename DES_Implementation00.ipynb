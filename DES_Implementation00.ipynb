{
 "cells": [
  {
   "cell_type": "markdown",
   "metadata": {},
   "source": [
    "# 1. Install PyCryptodome Library\n",
    "To use DES in Python, you first need to install the pycryptodome library. You can do that by running the following command:"
   ]
  },
  {
   "cell_type": "code",
   "execution_count": 10,
   "metadata": {},
   "outputs": [
    {
     "name": "stdout",
     "output_type": "stream",
     "text": [
      "Defaulting to user installation because normal site-packages is not writeable\n",
      "Requirement already satisfied: pycryptodome in c:\\users\\unggu\\appdata\\roaming\\python\\python312\\site-packages (3.21.0)\n",
      "Note: you may need to restart the kernel to use updated packages.\n"
     ]
    }
   ],
   "source": [
    "pip install pycryptodome"
   ]
  },
  {
   "cell_type": "markdown",
   "metadata": {},
   "source": [
    "# 2. Importing the Necessary Libraries\n",
    "Now, we can start coding. First, import the necessary modules from Crypto.Cipher."
   ]
  },
  {
   "cell_type": "code",
   "execution_count": 11,
   "metadata": {},
   "outputs": [],
   "source": [
    "from Crypto.Cipher import DES\n",
    "from Crypto.Random import get_random_bytes"
   ]
  },
  {
   "cell_type": "markdown",
   "metadata": {},
   "source": [
    "* DES: This module helps in performing DES encryption and decryption.\n",
    "* get_random_bytes: This helps generate random keys and initialization vectors."
   ]
  },
  {
   "cell_type": "markdown",
   "metadata": {},
   "source": [
    "# 3. Creating the Key\n",
    "DES uses a 64-bit key, but in practice, only 56 bits are used for encryption. \n",
    "The remaining 8 bits are used for parity checking. \n",
    "Here’s how you can create a DES key:"
   ]
  },
  {
   "cell_type": "code",
   "execution_count": 12,
   "metadata": {},
   "outputs": [],
   "source": [
    "\n",
    "key = get_random_bytes(8)  # DES key should be 8 bytes (64 bits)"
   ]
  },
  {
   "cell_type": "markdown",
   "metadata": {},
   "source": [
    "# 4. Padding the Plain Text\n",
    "DES operates on 64-bit blocks (8 bytes). If your plain text is not a multiple of 8 bytes, you will need to add padding.\n",
    "\n",
    "Here’s a simple padding function to ensure that the text has the correct length:"
   ]
  },
  {
   "cell_type": "code",
   "execution_count": 13,
   "metadata": {},
   "outputs": [],
   "source": [
    "def pad(text):\n",
    "    while len(text) % 8 != 0:\n",
    "        text += b' '  # Padding with spaces\n",
    "    return text"
   ]
  },
  {
   "cell_type": "markdown",
   "metadata": {},
   "source": [
    "# 5. Encrypting with DES\n",
    "To encrypt, we need to create a DES cipher object and call the encrypt() function.\n",
    "\n",
    "Here's how to do it:"
   ]
  },
  {
   "cell_type": "code",
   "execution_count": 14,
   "metadata": {},
   "outputs": [],
   "source": [
    "def encrypt(plain_text, key):\n",
    "    des = DES.new(key, DES.MODE_ECB)  # Using ECB mode (Electronic Codebook)\n",
    "    padded_text = pad(plain_text)\n",
    "    cipher_text = des.encrypt(padded_text)\n",
    "    return cipher_text"
   ]
  },
  {
   "cell_type": "markdown",
   "metadata": {},
   "source": [
    "# 6. Decrypting the Cipher Text\n",
    "Decryption is similar to encryption, but we use the decrypt() function:"
   ]
  },
  {
   "cell_type": "code",
   "execution_count": 15,
   "metadata": {},
   "outputs": [],
   "source": [
    "def decrypt(cipher_text, key):\n",
    "    des = DES.new(key, DES.MODE_ECB)\n",
    "    decrypted_text = des.decrypt(cipher_text)\n",
    "    return decrypted_text"
   ]
  },
  {
   "cell_type": "markdown",
   "metadata": {},
   "source": [
    "# 7. Full Working Code Example\n",
    "Here’s a full example putting it all together:"
   ]
  },
  {
   "cell_type": "code",
   "execution_count": 16,
   "metadata": {},
   "outputs": [
    {
     "name": "stdout",
     "output_type": "stream",
     "text": [
      "Encrypted: b'x\\x040n\\x92\\x0b~r'\n",
      "Decrypted: b'Hello123'\n"
     ]
    }
   ],
   "source": [
    "from Crypto.Cipher import DES\n",
    "from Crypto.Random import get_random_bytes\n",
    "\n",
    "# Padding function\n",
    "def pad(text):\n",
    "    while len(text) % 8 != 0:\n",
    "        text += b' '  # Padding with spaces\n",
    "    return text\n",
    "\n",
    "# Encryption function\n",
    "def encrypt(plain_text, key):\n",
    "    des = DES.new(key, DES.MODE_ECB)  # ECB mode\n",
    "    padded_text = pad(plain_text)\n",
    "    cipher_text = des.encrypt(padded_text)\n",
    "    return cipher_text\n",
    "\n",
    "# Decryption function\n",
    "def decrypt(cipher_text, key):\n",
    "    des = DES.new(key, DES.MODE_ECB)\n",
    "    decrypted_text = des.decrypt(cipher_text)\n",
    "    return decrypted_text\n",
    "\n",
    "# Generate random DES key\n",
    "key = get_random_bytes(8)  # DES key must be 8 bytes\n",
    "\n",
    "# Original plain text\n",
    "plain_text = b'Hello123'  # Text must be in bytes\n",
    "\n",
    "# Encrypt\n",
    "cipher_text = encrypt(plain_text, key)\n",
    "print(f'Encrypted: {cipher_text}')\n",
    "\n",
    "# Decrypt\n",
    "decrypted_text = decrypt(cipher_text, key)\n",
    "print(f'Decrypted: {decrypted_text.strip()}')\n"
   ]
  }
 ],
 "metadata": {
  "kernelspec": {
   "display_name": "Python 3",
   "language": "python",
   "name": "python3"
  },
  "language_info": {
   "codemirror_mode": {
    "name": "ipython",
    "version": 3
   },
   "file_extension": ".py",
   "mimetype": "text/x-python",
   "name": "python",
   "nbconvert_exporter": "python",
   "pygments_lexer": "ipython3",
   "version": "3.12.6"
  }
 },
 "nbformat": 4,
 "nbformat_minor": 2
}
